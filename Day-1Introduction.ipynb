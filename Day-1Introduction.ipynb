{
 "cells": [
  {
   "cell_type": "markdown",
   "id": "d29c9908",
   "metadata": {},
   "source": [
    "<div style=\"background-color: #add8e6; padding: 10px; height: 70px; border-radius: 15px;\">\n",
    "    <div style=\"font-family: 'Georgia', serif; font-size: 20px; padding: 10px; text-align: right; position: absolute; right: 20px;\">\n",
    "        Kanchan Sharma <br>\n",
    "        <span style=\"font-family: 'Arial', sans-serif;font-size: 12px; color: #0a0a0a;\">Tech Skills Trainee | AI/ML Bootcamp</span> \n",
    "    </div>\n",
    "</div>"
   ]
  },
  {
   "cell_type": "markdown",
   "id": "1c8010a9",
   "metadata": {},
   "source": [
    "<div style=\"background-color: #002147; padding: 10px; text-align: center; color: white; font-size: 32px; font-family: 'Arial', sans-serif;\">\n",
    "Power-BI <br>\n",
    "    <h3 style=\"text-align: center; color: white; font-size: 15px; font-family: 'Arial', sans-serif;\"></h3>\n",
    "</div>"
   ]
  },
  {
   "cell_type": "markdown",
   "id": "027def62",
   "metadata": {},
   "source": [
    "<h2>Introduction to Power BI</h2>"
   ]
  },
  {
   "cell_type": "markdown",
   "id": "a1fb595d",
   "metadata": {},
   "source": [
    "\n",
    "\n",
    "Power BI is a powerful business analytics tool from Microsoft that enables individuals and organizations to transform raw data into meaningful insights through interactive reports and dashboards. It's widely used for data visualization, reporting, and decision-making across various industries.\n",
    "\n",
    "---\n",
    "\n",
    "###  What Is Power BI?\n",
    "\n",
    "Power BI is a suite of business analytics tools that allows you to:\n",
    "\n",
    "* **Connect** to a wide range of data sources, including Excel, databases, cloud services, and web APIs.\n",
    "* **Transform** and clean data using built-in tools like Power Query.\n",
    "* **Model** data to create relationships and calculations.\n",
    "* **Visualize** data through interactive charts, graphs, and maps.\n",
    "* **Share** insights via dashboards and reports with stakeholders.([Microsoft Learn][1])\n",
    "\n",
    "Power BI integrates seamlessly with other Microsoft products like Excel, Azure, and Teams, making it a versatile choice for data analysis and reporting. ([Microsoft Learn][2])\n",
    "\n",
    "---\n",
    "\n",
    "###  Key Components of Power BI\n",
    "\n",
    "1. **Power BI Desktop**: A free Windows application for creating reports and data models. It's ideal for individual users and small teams. ([Microsoft Learn][1])\n",
    "\n",
    "2. **Power BI Service**: A cloud-based platform (SaaS) that allows users to publish, share, and collaborate on reports and dashboards. It's accessible via a web browser.&#x20;\n",
    "\n",
    "3. **Power BI Mobile**: Mobile applications for iOS and Android that let users view and interact with reports on the go. ([Microsoft][3])\n",
    "\n",
    "4. **Power BI Report Server**: An on-premises solution for organizations that prefer to keep their data and reports within their own infrastructure. ([Microsoft Learn][2])\n",
    "\n",
    "5. **Power BI Embedded**: A service that allows developers to embed Power BI visuals into custom applications. ([Microsoft][4])\n",
    "\n",
    "---\n",
    "\n",
    "###  Getting Started with Power BI\n",
    "\n",
    "To begin using Power BI:\n",
    "\n",
    "1. **Download Power BI Desktop**: Install it on your Windows machine to start creating reports.([Microsoft Learn][1])\n",
    "\n",
    "2. **Sign Up for Power BI Service**: Create an account to publish and share your reports online.\n",
    "\n",
    "3. **Explore Sample Data**: Use sample datasets to practice and familiarize yourself with Power BI's features.\n",
    "\n",
    "4. **Learn and Experiment**: Utilize Microsoft's tutorials and community forums to enhance your skills.([Microsoft Learn][5])\n",
    "\n",
    "You can start for free by visiting the official Power BI website. ([Microsoft][6])\n",
    "\n",
    "---\n",
    "\n",
    "###  Example Dashboards\n",
    "\n",
    "Here are some examples of Power BI dashboards that showcase its capabilities:\n",
    "\n",
    "* **Retail Analysis Sample**: Provides insights into sales performance, customer demographics, and regional trends.\n",
    "\n",
    "* **Web Traffic Dashboard**: Displays metrics like page views, bounce rates, and user engagement.\n",
    "\n",
    "* **Executive Insights Dashboard**: Offers a high-level overview of key performance indicators across various departments.\n",
    "\n",
    "These dashboards illustrate how Power BI can be used to visualize complex data in an accessible and actionable format.\n",
    "\n",
    "---\n"
   ]
  },
  {
   "cell_type": "markdown",
   "id": "97516d5c",
   "metadata": {},
   "source": [
    "<div style=\"background-color: PINK; color: #fff; padding: 30px; text-align: center;\">\n",
    "    <h1>END!\n",
    "        <!--- Devashish Kumar | Tech Skills Trainer | CodroidHub Private Limited | AI/ML Consultant --->\n",
    "</h1> </div>"
   ]
  },
  {
   "cell_type": "markdown",
   "id": "f5b1b065",
   "metadata": {},
   "source": [
    "<div style=\"background-color: #002147; color: #fff; padding: 30px; text-align: center;\">\n",
    "    <h1>THANK YOU!\n",
    "        <!--- Devashish Kumar | Tech Skills Trainer | CodroidHub Private Limited | AI/ML Consultant --->\n",
    "</h1> </div>"
   ]
  },
  {
   "cell_type": "markdown",
   "id": "594e7f81",
   "metadata": {},
   "source": []
  }
 ],
 "metadata": {
  "language_info": {
   "name": "python"
  }
 },
 "nbformat": 4,
 "nbformat_minor": 5
}
